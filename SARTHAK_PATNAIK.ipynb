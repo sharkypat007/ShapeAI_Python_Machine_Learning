{
  "nbformat": 4,
  "nbformat_minor": 0,
  "metadata": {
    "colab": {
      "name": "SARTHAK PATNAIK.ipynb",
      "provenance": [],
      "collapsed_sections": []
    },
    "kernelspec": {
      "name": "python3",
      "display_name": "Python 3"
    },
    "language_info": {
      "name": "python"
    }
  },
  "cells": [
    {
      "cell_type": "code",
      "metadata": {
        "colab": {
          "base_uri": "https://localhost:8080/"
        },
        "id": "oG0wEU554_qC",
        "outputId": "05c69ef4-a0ef-429a-d246-278738ff32d5"
      },
      "source": [
        "import numpy as np\n",
        "import pandas as pd\n",
        "import sklearn\n",
        "\n",
        "from sklearn.datasets import load_boston\n",
        "df= load_boston()\n",
        "\n",
        "df.keys()\n",
        "#print(df.data)\n",
        "#print(df.feature_names)\n",
        "\n",
        "house_data=pd.DataFrame (df.data,columns= df.feature_names)\n",
        "#house_data.head()\n",
        "house_data ['PRICE'] = df.target\n",
        "#house_data.head()\n",
        "#house_data.isnull()\n",
        "#house_data.isnull().sum()\n",
        "\n",
        "from sklearn.model_selection import train_test_split\n",
        "X=house_data.drop('PRICE', axis=1)\n",
        "Y=house_data['PRICE']\n",
        "X_train, X_test,Y_train,Y_test = train_test_split(X,Y,test_size =0.15, random_state=5)\n",
        "\n",
        "#print(X_train.shape)\n",
        "#print(X_test.shape)\n",
        "#print(Y_train.shape)\n",
        "#print(Y_test.shape)\n",
        "\n",
        "from sklearn.linear_model import LinearRegression\n",
        "from sklearn.metrics import mean_squared_error\n",
        "\n",
        "lin_reg_model= LinearRegression()\n",
        "lin_reg_model.fit ( X_train, Y_train)\n",
        "\n",
        "Y_train_predict= lin_reg_model.predict(X_train)\n",
        "rmse_train = (np.sqrt(mean_squared_error(Y_train,Y_train_predict)))\n",
        "print('The Model Performance for Testing data set RMSE=')\n",
        "print(rmse_train)\n",
        "\n",
        "print('\\n')\n",
        "\n",
        "Y_test_predict= lin_reg_model.predict(X_test)\n",
        "rmse_test = (np.sqrt(mean_squared_error(Y_test,Y_test_predict)))\n",
        "print('The Model Performance for Training data set RMSE= ')\n",
        "print(rmse_test)\n",
        "\n",
        "print('----------------------------------------------------------------------------------------------')\n",
        "print('© Sarthak Patnaik Shape-AI Python_ML_Bootcamp')"
      ],
      "execution_count": 2,
      "outputs": [
        {
          "output_type": "stream",
          "text": [
            "The Model Performance for Testing data set RMSE=\n",
            "4.710901797319796\n",
            "\n",
            "\n",
            "The Model Performance for Training data set RMSE= \n",
            "4.687543527902972\n",
            "----------------------------------------------------------------------------------------------\n",
            "© Sarthak Patnaik Shape-AI Python_ML_Bootcamp\n"
          ],
          "name": "stdout"
        }
      ]
    }
  ]
}